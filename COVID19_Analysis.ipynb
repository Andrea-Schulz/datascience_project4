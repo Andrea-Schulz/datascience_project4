{
 "cells": [
  {
   "cell_type": "markdown",
   "metadata": {},
   "source": [
    "For improved readability of the Notebook, use [Markdown Cheat Sheet](https://gtribello.github.io/mathNET/assets/notebook-writing.html) and [Unofficial Jupyter Extensions](https://jupyter-contrib-nbextensions.readthedocs.io/en/latest/index.html)."
   ]
  },
  {
   "cell_type": "markdown",
   "metadata": {},
   "source": [
    "# Imports and Installations"
   ]
  },
  {
   "cell_type": "code",
   "execution_count": 1,
   "metadata": {},
   "outputs": [],
   "source": [
    "import os\n",
    "import csv\n",
    "import numpy as np\n",
    "import pandas as pd\n",
    "import matplotlib as mpl\n",
    "import matplotlib.pyplot as plt\n",
    "import matplotlib.pyplot as plt\n",
    "import seaborn as sns\n",
    "import functools as func\n",
    "from data_preprocess import data_load, data_clean\n",
    "import custom_functions as cfunc\n",
    "import plot_functions as pfunc"
   ]
  },
  {
   "cell_type": "code",
   "execution_count": 2,
   "metadata": {},
   "outputs": [],
   "source": [
    "# default, green, blue and red color cycles\n",
    "default, color1, color2, color3 = pfunc.color_cycles()\n",
    "\n",
    "# customize plot settings and parameters\n",
    "pfunc.init_plot_settings(color=default)\n",
    "\n",
    "# extra colors\n",
    "blue_light = '#9BBEDA'\n",
    "blue_medium = '#748FA4'\n",
    "blue_dark = '#4E5F6D'"
   ]
  },
  {
   "cell_type": "markdown",
   "metadata": {},
   "source": [
    "# Load & Prepare Data"
   ]
  },
  {
   "cell_type": "markdown",
   "metadata": {},
   "source": [
    "#### RKI Coronavirus data"
   ]
  },
  {
   "cell_type": "markdown",
   "metadata": {},
   "source": [
    "for the sake of having a cleaner Notebook, the loading and data wrangling code was moved to a module, `data_preprocess.py`. If you don't feel like checking out the details, this is what it does:\n",
    "* load and the data from multiple csv files\n",
    "* preprocess/clean data:\n",
    "    * since some of the data was extracted from files with messy or incompatible formatting, cleaning included **string extractions and replacements** in different columns before numeric conversion could be done\n",
    "    * furthermore, I **renamed columns** where necessary to be suitable for pandas (and for non-German speakers) and **merged suitable tables together**\n",
    "    * since daily and weekly case numbers are mixed in this dataset, I made sure every table included the **calendar week as a common time-based reference for comparison** between tables (where week 53 is mapped to the year 2020)\n",
    "* after these steps, the output is as follows:\n",
    "    * `overview`: daily new cases and deaths over time in all federal states (per general age group and sex)\n",
    "    * `cases_age`: weekly number of new cases and incidences per age group in 5-year intervalls\n",
    "    * `clinical`: reported clinical indications (hospitalization, symptom prevalence) and deaths per sex\n",
    "    * `deaths`: weekly number of deaths per age group and sex\n",
    "    * `breakouts`: breakouts (= 2 or more cases) that were traced and attributed to an infection setting\n",
    "    * `tests`: testing capacities and tailbacks\n",
    "\n",
    "**Information on Coronavirus case documentation:**\n",
    "All data was taken from the German federal government agency responsible for disease control and prevention, Robert Koch Institute [RKI](https://www.rki.de/DE/Content/InfAZ/N/Neuartiges_Coronavirus/nCoV_node.html). Cases are defined as infections (regardless of the presence of symptoms) which were confirmed by a laboratory PCR test. The date a Coronavirus case occurs in the data is the date the local health authorities registered the case.\n",
    "\n",
    "All data was downloaded on January 18th."
   ]
  },
  {
   "cell_type": "code",
   "execution_count": 3,
   "metadata": {},
   "outputs": [],
   "source": [
    "# load\n",
    "overview_raw, casting_raw, breakouts_raw, cases_age1, cases_age2, deaths1, deaths2, deaths3, tests1, tests2, clinical_raw =\\\n",
    "    data_load()"
   ]
  },
  {
   "cell_type": "code",
   "execution_count": 4,
   "metadata": {},
   "outputs": [],
   "source": [
    "# preprocess\n",
    "overview, casting, breakouts, cases_age, deaths, tests, clinical =\\\n",
    "    data_clean(overview_raw, casting_raw, breakouts_raw, cases_age1, cases_age2, deaths1, deaths2, deaths3, tests1, tests2, clinical_raw)"
   ]
  },
  {
   "cell_type": "code",
   "execution_count": 5,
   "metadata": {},
   "outputs": [
    {
     "name": "stdout",
     "output_type": "stream",
     "text": [
      "dimensions: (1030560, 22)\n",
      "dimensions: (319, 14)\n",
      "dimensions: (840, 3)\n",
      "dimensions: (20, 91)\n",
      "dimensions: (42, 22)\n",
      "dimensions: (45, 7)\n",
      "dimensions: (45, 13)\n"
     ]
    }
   ],
   "source": [
    "for dataframe in [overview, casting, breakouts, cases_age, deaths, tests, clinical]: \n",
    "    print(f'dimensions: {dataframe.shape}')"
   ]
  },
  {
   "cell_type": "markdown",
   "metadata": {},
   "source": [
    "#### supporting data\n",
    "data derived from German Federal Statistics Office (used by RKI):\n",
    "* German population per federal state ([link](https://de.statista.com/statistik/daten/studie/71085/umfrage/verteilung-der-einwohnerzahl-nach-bundeslaendern/))\n",
    "* German population per age group ([link](https://www-genesis.destatis.de/genesis/online?operation=abruftabelleBearbeiten&levelindex=1&levelid=1611959825818&auswahloperation=abruftabelleAuspraegungAuswaehlen&auswahlverzeichnis=ordnungsstruktur&auswahlziel=werteabruf&code=12411-0005&auswahltext=&werteabruf=Werteabruf#abreadcrumb)) or ([link](https://service.destatis.de/bevoelkerungspyramide/index.html#!))\n",
    "\n",
    "data derived for dark figures calculation:\n",
    "* Social Contacts and Mixing Patterns Relevant to the Spread of Infectious Diseases ([link](https://journals.plos.org/plosmedicine/article?id=10.1371/journal.pmed.0050074))"
   ]
  },
  {
   "cell_type": "code",
   "execution_count": 6,
   "metadata": {},
   "outputs": [
    {
     "name": "stdout",
     "output_type": "stream",
     "text": [
      "German population according to state census: 83166.711\n"
     ]
    }
   ],
   "source": [
    "# use current population data (in 1000 units) to calculate incidences per federal state:\n",
    "population_states = pd.Series(data={'Baden-Württemberg':11100.394, \n",
    "                                    'Bayern':13124.737, \n",
    "                                    'Berlin':3669.491,\n",
    "                                    'Brandenburg':2521.893, \n",
    "                                    'Bremen':681.202, \n",
    "                                    'Hamburg':1847.253, \n",
    "                                    'Hessen':6288.080,\n",
    "                                    'Mecklenburg-Vorpommern':1608.138, \n",
    "                                    'Niedersachsen':7993.608, \n",
    "                                    'Nordrhein-Westfalen':17947.221,\n",
    "                                    'Rheinland-Pfalz':4093.903, \n",
    "                                    'Saarland':986.887, \n",
    "                                    'Sachsen':4071.971, \n",
    "                                    'Sachsen-Anhalt':2194.782,\n",
    "                                    'Schleswig-Holstein':2903.773, \n",
    "                                    'Thüringen':2133.378})\n",
    "\n",
    "print(f'German population according to state census: {population_states.sum()}')"
   ]
  },
  {
   "cell_type": "code",
   "execution_count": 7,
   "metadata": {},
   "outputs": [],
   "source": [
    "social_factors = pd.DataFrame(data={'Altersgruppe':['90+', '85 - 89', '80 - 84', '75 - 79', '70 - 74', '65 - 69', '60 - 64', '55 - 59', '50 - 54', '45 - 49', '40 - 44', '35 - 39', '30 - 34', '25 - 29', '20 - 24', '15 - 19', '10-14', '5-9', '0 - 4'], \n",
    "                                    'social_contacts':[0.81, 0.81, 0.81, 0.81, 0.81, 1.06, 1.06, 1.31, 1.31, 1.38, 1.38, 1.45, 1.45, 1.45, 1.45, 1.68, 1.73, 1.42, 1], \n",
    "                                    'social_contacts_95_low':[0.73, 0.73, 0.73, 0.73, 0.73, 0.96, 0.96, 1.20, 1.20, 1.27, 1.27, 1.34, 1.34, 1.33, 1.33, 1.52, 1.57, 1.28, 1], \n",
    "                                    'social_contacts_95_high':[0.88, 0.88, 0.88, 0.88, 0.88, 1.16, 1.16, 1.42, 1.42, 1.50, 1.50, 1.57, 1.57, 1.57, 1.57, 1.84, 1.90, 1.55, 1]})\n",
    "social_factors = social_factors.set_index('Altersgruppe')"
   ]
  },
  {
   "cell_type": "code",
   "execution_count": 8,
   "metadata": {},
   "outputs": [
    {
     "name": "stdout",
     "output_type": "stream",
     "text": [
      "German population according to age census: 83178.0\n"
     ]
    }
   ],
   "source": [
    "# use current population data (in 1000 units) to calculate incidences per age group (0-100 years):\n",
    "# population_age = pd.read_csv(\"data/12411-0005.csv\", sep=';', encoding = \"ISO-8859-1\")\n",
    "population_age = pd.read_csv(\"data/14_bevoelkerungsvorausberechnung_daten.csv\", sep=';')\n",
    "population_age = population_age[(population_age['Variante'] == 10) & (population_age['Simulationsjahr'] == 2019)].sum().iloc[4:]\n",
    "\n",
    "# reset index instead of renaming to be between 0 and 100\n",
    "population_age = population_age.reset_index(drop=True)\n",
    "\n",
    "# group in age groups of five years (0-4, 5-9, ...)\n",
    "population_age = population_age.groupby(population_age.index // 5).sum()\n",
    "\n",
    "# add 90-94 and 95-99 as age group '90+' and set index accordingly\n",
    "population_age.loc[18] += population_age.loc[19]\n",
    "population_age = population_age.loc[0:18]\n",
    "population_age.index = ['0 - 4','5-9','10-14','15 - 19',\n",
    "                        '20 - 24','25 - 29','30 - 34','35 - 39',\n",
    "                        '40 - 44','45 - 49','50 - 54','55 - 59',\n",
    "                        '60 - 64','65 - 69','70 - 74','75 - 79',\n",
    "                        '80 - 84','85 - 89','90+']\n",
    "\n",
    "print(f'German population according to age census: {population_age.sum()}')"
   ]
  },
  {
   "cell_type": "markdown",
   "metadata": {},
   "source": [
    "#### view data"
   ]
  },
  {
   "cell_type": "code",
   "execution_count": 9,
   "metadata": {},
   "outputs": [
    {
     "data": {
      "text/html": [
       "<div>\n",
       "<style scoped>\n",
       "    .dataframe tbody tr th:only-of-type {\n",
       "        vertical-align: middle;\n",
       "    }\n",
       "\n",
       "    .dataframe tbody tr th {\n",
       "        vertical-align: top;\n",
       "    }\n",
       "\n",
       "    .dataframe thead th {\n",
       "        text-align: right;\n",
       "    }\n",
       "</style>\n",
       "<table border=\"1\" class=\"dataframe\">\n",
       "  <thead>\n",
       "    <tr style=\"text-align: right;\">\n",
       "      <th></th>\n",
       "      <th>IdBundesland</th>\n",
       "      <th>Bundesland</th>\n",
       "      <th>Landkreis</th>\n",
       "      <th>Altersgruppe</th>\n",
       "      <th>Geschlecht</th>\n",
       "      <th>AnzahlFall</th>\n",
       "      <th>AnzahlTodesfall</th>\n",
       "      <th>IdLandkreis</th>\n",
       "      <th>NeuerFall</th>\n",
       "      <th>NeuerTodesfall</th>\n",
       "      <th>...</th>\n",
       "      <th>IstErkrankungsbeginn</th>\n",
       "      <th>report_date</th>\n",
       "      <th>ref_date</th>\n",
       "      <th>report_delay</th>\n",
       "      <th>ref_date_dayofweek</th>\n",
       "      <th>ref_date_year</th>\n",
       "      <th>ref_date_week</th>\n",
       "      <th>report_date_dayofweek</th>\n",
       "      <th>report_date_year</th>\n",
       "      <th>report_date_week</th>\n",
       "    </tr>\n",
       "  </thead>\n",
       "  <tbody>\n",
       "    <tr>\n",
       "      <th>0</th>\n",
       "      <td>1</td>\n",
       "      <td>Schleswig-Holstein</td>\n",
       "      <td>SK Flensburg</td>\n",
       "      <td>A00-A04</td>\n",
       "      <td>M</td>\n",
       "      <td>1</td>\n",
       "      <td>0</td>\n",
       "      <td>1001</td>\n",
       "      <td>0</td>\n",
       "      <td>-9</td>\n",
       "      <td>...</td>\n",
       "      <td>0</td>\n",
       "      <td>2020-09-30</td>\n",
       "      <td>2020-09-30</td>\n",
       "      <td>0</td>\n",
       "      <td>2</td>\n",
       "      <td>2020</td>\n",
       "      <td>40</td>\n",
       "      <td>2</td>\n",
       "      <td>2020</td>\n",
       "      <td>40</td>\n",
       "    </tr>\n",
       "    <tr>\n",
       "      <th>1</th>\n",
       "      <td>1</td>\n",
       "      <td>Schleswig-Holstein</td>\n",
       "      <td>SK Flensburg</td>\n",
       "      <td>A35-A59</td>\n",
       "      <td>W</td>\n",
       "      <td>1</td>\n",
       "      <td>0</td>\n",
       "      <td>1001</td>\n",
       "      <td>0</td>\n",
       "      <td>-9</td>\n",
       "      <td>...</td>\n",
       "      <td>1</td>\n",
       "      <td>2021-01-05</td>\n",
       "      <td>2021-01-03</td>\n",
       "      <td>2</td>\n",
       "      <td>6</td>\n",
       "      <td>2020</td>\n",
       "      <td>53</td>\n",
       "      <td>1</td>\n",
       "      <td>2021</td>\n",
       "      <td>1</td>\n",
       "    </tr>\n",
       "    <tr>\n",
       "      <th>2</th>\n",
       "      <td>1</td>\n",
       "      <td>Schleswig-Holstein</td>\n",
       "      <td>SK Flensburg</td>\n",
       "      <td>A00-A04</td>\n",
       "      <td>M</td>\n",
       "      <td>1</td>\n",
       "      <td>0</td>\n",
       "      <td>1001</td>\n",
       "      <td>0</td>\n",
       "      <td>-9</td>\n",
       "      <td>...</td>\n",
       "      <td>0</td>\n",
       "      <td>2020-10-29</td>\n",
       "      <td>2020-10-29</td>\n",
       "      <td>0</td>\n",
       "      <td>3</td>\n",
       "      <td>2020</td>\n",
       "      <td>44</td>\n",
       "      <td>3</td>\n",
       "      <td>2020</td>\n",
       "      <td>44</td>\n",
       "    </tr>\n",
       "    <tr>\n",
       "      <th>3</th>\n",
       "      <td>1</td>\n",
       "      <td>Schleswig-Holstein</td>\n",
       "      <td>SK Flensburg</td>\n",
       "      <td>A35-A59</td>\n",
       "      <td>W</td>\n",
       "      <td>2</td>\n",
       "      <td>0</td>\n",
       "      <td>1001</td>\n",
       "      <td>0</td>\n",
       "      <td>-9</td>\n",
       "      <td>...</td>\n",
       "      <td>0</td>\n",
       "      <td>2021-01-05</td>\n",
       "      <td>2021-01-05</td>\n",
       "      <td>0</td>\n",
       "      <td>1</td>\n",
       "      <td>2021</td>\n",
       "      <td>1</td>\n",
       "      <td>1</td>\n",
       "      <td>2021</td>\n",
       "      <td>1</td>\n",
       "    </tr>\n",
       "    <tr>\n",
       "      <th>4</th>\n",
       "      <td>1</td>\n",
       "      <td>Schleswig-Holstein</td>\n",
       "      <td>SK Flensburg</td>\n",
       "      <td>A00-A04</td>\n",
       "      <td>M</td>\n",
       "      <td>1</td>\n",
       "      <td>0</td>\n",
       "      <td>1001</td>\n",
       "      <td>0</td>\n",
       "      <td>-9</td>\n",
       "      <td>...</td>\n",
       "      <td>0</td>\n",
       "      <td>2020-11-03</td>\n",
       "      <td>2020-11-03</td>\n",
       "      <td>0</td>\n",
       "      <td>1</td>\n",
       "      <td>2020</td>\n",
       "      <td>45</td>\n",
       "      <td>1</td>\n",
       "      <td>2020</td>\n",
       "      <td>45</td>\n",
       "    </tr>\n",
       "  </tbody>\n",
       "</table>\n",
       "<p>5 rows × 22 columns</p>\n",
       "</div>"
      ],
      "text/plain": [
       "   IdBundesland          Bundesland     Landkreis Altersgruppe Geschlecht  \\\n",
       "0             1  Schleswig-Holstein  SK Flensburg      A00-A04          M   \n",
       "1             1  Schleswig-Holstein  SK Flensburg      A35-A59          W   \n",
       "2             1  Schleswig-Holstein  SK Flensburg      A00-A04          M   \n",
       "3             1  Schleswig-Holstein  SK Flensburg      A35-A59          W   \n",
       "4             1  Schleswig-Holstein  SK Flensburg      A00-A04          M   \n",
       "\n",
       "   AnzahlFall  AnzahlTodesfall  IdLandkreis  NeuerFall  NeuerTodesfall  ...  \\\n",
       "0           1                0         1001          0              -9  ...   \n",
       "1           1                0         1001          0              -9  ...   \n",
       "2           1                0         1001          0              -9  ...   \n",
       "3           2                0         1001          0              -9  ...   \n",
       "4           1                0         1001          0              -9  ...   \n",
       "\n",
       "   IstErkrankungsbeginn  report_date    ref_date report_delay  \\\n",
       "0                     0   2020-09-30  2020-09-30            0   \n",
       "1                     1   2021-01-05  2021-01-03            2   \n",
       "2                     0   2020-10-29  2020-10-29            0   \n",
       "3                     0   2021-01-05  2021-01-05            0   \n",
       "4                     0   2020-11-03  2020-11-03            0   \n",
       "\n",
       "  ref_date_dayofweek  ref_date_year  ref_date_week  report_date_dayofweek  \\\n",
       "0                  2           2020             40                      2   \n",
       "1                  6           2020             53                      1   \n",
       "2                  3           2020             44                      3   \n",
       "3                  1           2021              1                      1   \n",
       "4                  1           2020             45                      1   \n",
       "\n",
       "   report_date_year  report_date_week  \n",
       "0              2020                40  \n",
       "1              2021                 1  \n",
       "2              2020                44  \n",
       "3              2021                 1  \n",
       "4              2020                45  \n",
       "\n",
       "[5 rows x 22 columns]"
      ]
     },
     "execution_count": 9,
     "metadata": {},
     "output_type": "execute_result"
    }
   ],
   "source": [
    "overview.head()"
   ]
  },
  {
   "cell_type": "code",
   "execution_count": 10,
   "metadata": {},
   "outputs": [
    {
     "data": {
      "text/html": [
       "<div>\n",
       "<style scoped>\n",
       "    .dataframe tbody tr th:only-of-type {\n",
       "        vertical-align: middle;\n",
       "    }\n",
       "\n",
       "    .dataframe tbody tr th {\n",
       "        vertical-align: top;\n",
       "    }\n",
       "\n",
       "    .dataframe thead th {\n",
       "        text-align: right;\n",
       "    }\n",
       "</style>\n",
       "<table border=\"1\" class=\"dataframe\">\n",
       "  <thead>\n",
       "    <tr style=\"text-align: right;\">\n",
       "      <th></th>\n",
       "      <th>week</th>\n",
       "      <th>sett_engl</th>\n",
       "      <th>num_breakouts</th>\n",
       "    </tr>\n",
       "  </thead>\n",
       "  <tbody>\n",
       "    <tr>\n",
       "      <th>0</th>\n",
       "      <td>9</td>\n",
       "      <td>Private household</td>\n",
       "      <td>2</td>\n",
       "    </tr>\n",
       "    <tr>\n",
       "      <th>1</th>\n",
       "      <td>9</td>\n",
       "      <td>Retirement/nursing home</td>\n",
       "      <td>1</td>\n",
       "    </tr>\n",
       "    <tr>\n",
       "      <th>2</th>\n",
       "      <td>9</td>\n",
       "      <td>Work place</td>\n",
       "      <td>1</td>\n",
       "    </tr>\n",
       "    <tr>\n",
       "      <th>3</th>\n",
       "      <td>9</td>\n",
       "      <td>Educational institution</td>\n",
       "      <td>3</td>\n",
       "    </tr>\n",
       "    <tr>\n",
       "      <th>4</th>\n",
       "      <td>9</td>\n",
       "      <td>Leisure</td>\n",
       "      <td>77</td>\n",
       "    </tr>\n",
       "  </tbody>\n",
       "</table>\n",
       "</div>"
      ],
      "text/plain": [
       "   week                sett_engl  num_breakouts\n",
       "0     9        Private household              2\n",
       "1     9  Retirement/nursing home              1\n",
       "2     9               Work place              1\n",
       "3     9  Educational institution              3\n",
       "4     9                  Leisure             77"
      ]
     },
     "execution_count": 10,
     "metadata": {},
     "output_type": "execute_result"
    }
   ],
   "source": [
    "breakouts.head()"
   ]
  },
  {
   "cell_type": "code",
   "execution_count": 11,
   "metadata": {},
   "outputs": [
    {
     "data": {
      "text/html": [
       "<div>\n",
       "<style scoped>\n",
       "    .dataframe tbody tr th:only-of-type {\n",
       "        vertical-align: middle;\n",
       "    }\n",
       "\n",
       "    .dataframe tbody tr th {\n",
       "        vertical-align: top;\n",
       "    }\n",
       "\n",
       "    .dataframe thead th {\n",
       "        text-align: right;\n",
       "    }\n",
       "</style>\n",
       "<table border=\"1\" class=\"dataframe\">\n",
       "  <thead>\n",
       "    <tr style=\"text-align: right;\">\n",
       "      <th></th>\n",
       "      <th>Altersgruppe</th>\n",
       "      <th>2020_10_total</th>\n",
       "      <th>2020_11_total</th>\n",
       "      <th>2020_12_total</th>\n",
       "      <th>2020_13_total</th>\n",
       "      <th>2020_14_total</th>\n",
       "      <th>2020_15_total</th>\n",
       "      <th>2020_16_total</th>\n",
       "      <th>2020_17_total</th>\n",
       "      <th>2020_18_total</th>\n",
       "      <th>...</th>\n",
       "      <th>2020_45_incidence</th>\n",
       "      <th>2020_46_incidence</th>\n",
       "      <th>2020_47_incidence</th>\n",
       "      <th>2020_48_incidence</th>\n",
       "      <th>2020_49_incidence</th>\n",
       "      <th>2020_50_incidence</th>\n",
       "      <th>2020_51_incidence</th>\n",
       "      <th>2020_52_incidence</th>\n",
       "      <th>2020_53_incidence</th>\n",
       "      <th>2021_1_incidence</th>\n",
       "    </tr>\n",
       "  </thead>\n",
       "  <tbody>\n",
       "    <tr>\n",
       "      <th>0</th>\n",
       "      <td>Gesamt</td>\n",
       "      <td>895</td>\n",
       "      <td>6435</td>\n",
       "      <td>22432</td>\n",
       "      <td>34029</td>\n",
       "      <td>36093</td>\n",
       "      <td>27185</td>\n",
       "      <td>17368</td>\n",
       "      <td>12381</td>\n",
       "      <td>7443</td>\n",
       "      <td>...</td>\n",
       "      <td>151.28</td>\n",
       "      <td>153.78</td>\n",
       "      <td>154.54</td>\n",
       "      <td>148.33</td>\n",
       "      <td>154.30</td>\n",
       "      <td>187.77</td>\n",
       "      <td>209.60</td>\n",
       "      <td>166.58</td>\n",
       "      <td>147.33</td>\n",
       "      <td>172.18</td>\n",
       "    </tr>\n",
       "    <tr>\n",
       "      <th>1</th>\n",
       "      <td>90+</td>\n",
       "      <td>1</td>\n",
       "      <td>12</td>\n",
       "      <td>99</td>\n",
       "      <td>423</td>\n",
       "      <td>1172</td>\n",
       "      <td>1245</td>\n",
       "      <td>848</td>\n",
       "      <td>582</td>\n",
       "      <td>284</td>\n",
       "      <td>...</td>\n",
       "      <td>208.98</td>\n",
       "      <td>281.15</td>\n",
       "      <td>372.40</td>\n",
       "      <td>427.31</td>\n",
       "      <td>502.77</td>\n",
       "      <td>656.95</td>\n",
       "      <td>722.19</td>\n",
       "      <td>635.69</td>\n",
       "      <td>600.09</td>\n",
       "      <td>641.28</td>\n",
       "    </tr>\n",
       "    <tr>\n",
       "      <th>2</th>\n",
       "      <td>85 - 89</td>\n",
       "      <td>6</td>\n",
       "      <td>38</td>\n",
       "      <td>218</td>\n",
       "      <td>738</td>\n",
       "      <td>1447</td>\n",
       "      <td>1421</td>\n",
       "      <td>926</td>\n",
       "      <td>684</td>\n",
       "      <td>329</td>\n",
       "      <td>...</td>\n",
       "      <td>146.50</td>\n",
       "      <td>180.78</td>\n",
       "      <td>215.24</td>\n",
       "      <td>261.99</td>\n",
       "      <td>292.68</td>\n",
       "      <td>376.90</td>\n",
       "      <td>441.49</td>\n",
       "      <td>372.55</td>\n",
       "      <td>355.80</td>\n",
       "      <td>380.48</td>\n",
       "    </tr>\n",
       "    <tr>\n",
       "      <th>3</th>\n",
       "      <td>80 - 84</td>\n",
       "      <td>12</td>\n",
       "      <td>83</td>\n",
       "      <td>468</td>\n",
       "      <td>1285</td>\n",
       "      <td>1963</td>\n",
       "      <td>1719</td>\n",
       "      <td>1182</td>\n",
       "      <td>823</td>\n",
       "      <td>451</td>\n",
       "      <td>...</td>\n",
       "      <td>104.18</td>\n",
       "      <td>115.32</td>\n",
       "      <td>132.35</td>\n",
       "      <td>145.13</td>\n",
       "      <td>164.68</td>\n",
       "      <td>213.86</td>\n",
       "      <td>249.77</td>\n",
       "      <td>224.72</td>\n",
       "      <td>207.09</td>\n",
       "      <td>229.19</td>\n",
       "    </tr>\n",
       "    <tr>\n",
       "      <th>4</th>\n",
       "      <td>75 - 79</td>\n",
       "      <td>24</td>\n",
       "      <td>112</td>\n",
       "      <td>571</td>\n",
       "      <td>1407</td>\n",
       "      <td>1786</td>\n",
       "      <td>1312</td>\n",
       "      <td>853</td>\n",
       "      <td>587</td>\n",
       "      <td>352</td>\n",
       "      <td>...</td>\n",
       "      <td>78.55</td>\n",
       "      <td>84.85</td>\n",
       "      <td>87.37</td>\n",
       "      <td>90.08</td>\n",
       "      <td>102.05</td>\n",
       "      <td>128.31</td>\n",
       "      <td>153.23</td>\n",
       "      <td>130.74</td>\n",
       "      <td>118.74</td>\n",
       "      <td>132.73</td>\n",
       "    </tr>\n",
       "  </tbody>\n",
       "</table>\n",
       "<p>5 rows × 91 columns</p>\n",
       "</div>"
      ],
      "text/plain": [
       "  Altersgruppe  2020_10_total  2020_11_total  2020_12_total  2020_13_total  \\\n",
       "0       Gesamt            895           6435          22432          34029   \n",
       "1          90+              1             12             99            423   \n",
       "2      85 - 89              6             38            218            738   \n",
       "3      80 - 84             12             83            468           1285   \n",
       "4      75 - 79             24            112            571           1407   \n",
       "\n",
       "   2020_14_total  2020_15_total  2020_16_total  2020_17_total  2020_18_total  \\\n",
       "0          36093          27185          17368          12381           7443   \n",
       "1           1172           1245            848            582            284   \n",
       "2           1447           1421            926            684            329   \n",
       "3           1963           1719           1182            823            451   \n",
       "4           1786           1312            853            587            352   \n",
       "\n",
       "   ...  2020_45_incidence  2020_46_incidence  2020_47_incidence  \\\n",
       "0  ...             151.28             153.78             154.54   \n",
       "1  ...             208.98             281.15             372.40   \n",
       "2  ...             146.50             180.78             215.24   \n",
       "3  ...             104.18             115.32             132.35   \n",
       "4  ...              78.55              84.85              87.37   \n",
       "\n",
       "   2020_48_incidence  2020_49_incidence  2020_50_incidence  2020_51_incidence  \\\n",
       "0             148.33             154.30             187.77             209.60   \n",
       "1             427.31             502.77             656.95             722.19   \n",
       "2             261.99             292.68             376.90             441.49   \n",
       "3             145.13             164.68             213.86             249.77   \n",
       "4              90.08             102.05             128.31             153.23   \n",
       "\n",
       "   2020_52_incidence  2020_53_incidence  2021_1_incidence  \n",
       "0             166.58             147.33            172.18  \n",
       "1             635.69             600.09            641.28  \n",
       "2             372.55             355.80            380.48  \n",
       "3             224.72             207.09            229.19  \n",
       "4             130.74             118.74            132.73  \n",
       "\n",
       "[5 rows x 91 columns]"
      ]
     },
     "execution_count": 11,
     "metadata": {},
     "output_type": "execute_result"
    }
   ],
   "source": [
    "cases_age.head()"
   ]
  },
  {
   "cell_type": "code",
   "execution_count": 12,
   "metadata": {},
   "outputs": [
    {
     "data": {
      "text/html": [
       "<div>\n",
       "<style scoped>\n",
       "    .dataframe tbody tr th:only-of-type {\n",
       "        vertical-align: middle;\n",
       "    }\n",
       "\n",
       "    .dataframe tbody tr th {\n",
       "        vertical-align: top;\n",
       "    }\n",
       "\n",
       "    .dataframe thead th {\n",
       "        text-align: right;\n",
       "    }\n",
       "</style>\n",
       "<table border=\"1\" class=\"dataframe\">\n",
       "  <thead>\n",
       "    <tr style=\"text-align: right;\">\n",
       "      <th></th>\n",
       "      <th>week</th>\n",
       "      <th>deaths_total</th>\n",
       "      <th>age_0</th>\n",
       "      <th>age_10</th>\n",
       "      <th>age_20</th>\n",
       "      <th>age_30</th>\n",
       "      <th>age_40</th>\n",
       "      <th>age_50</th>\n",
       "      <th>age_60</th>\n",
       "      <th>age_70</th>\n",
       "      <th>...</th>\n",
       "      <th>M0_19</th>\n",
       "      <th>M20_39</th>\n",
       "      <th>M40_59</th>\n",
       "      <th>M60_79</th>\n",
       "      <th>M80</th>\n",
       "      <th>F0_19</th>\n",
       "      <th>F20_39</th>\n",
       "      <th>F40_59</th>\n",
       "      <th>F60_79</th>\n",
       "      <th>F80</th>\n",
       "    </tr>\n",
       "  </thead>\n",
       "  <tbody>\n",
       "    <tr>\n",
       "      <th>0</th>\n",
       "      <td>10</td>\n",
       "      <td>3</td>\n",
       "      <td>0</td>\n",
       "      <td>0</td>\n",
       "      <td>0</td>\n",
       "      <td>0</td>\n",
       "      <td>0</td>\n",
       "      <td>3</td>\n",
       "      <td>3</td>\n",
       "      <td>0</td>\n",
       "      <td>...</td>\n",
       "      <td>0</td>\n",
       "      <td>0</td>\n",
       "      <td>3</td>\n",
       "      <td>3</td>\n",
       "      <td>0</td>\n",
       "      <td>0</td>\n",
       "      <td>0</td>\n",
       "      <td>0</td>\n",
       "      <td>0</td>\n",
       "      <td>0</td>\n",
       "    </tr>\n",
       "    <tr>\n",
       "      <th>1</th>\n",
       "      <td>11</td>\n",
       "      <td>18</td>\n",
       "      <td>0</td>\n",
       "      <td>0</td>\n",
       "      <td>0</td>\n",
       "      <td>0</td>\n",
       "      <td>0</td>\n",
       "      <td>0</td>\n",
       "      <td>3</td>\n",
       "      <td>6</td>\n",
       "      <td>...</td>\n",
       "      <td>0</td>\n",
       "      <td>0</td>\n",
       "      <td>0</td>\n",
       "      <td>5</td>\n",
       "      <td>6</td>\n",
       "      <td>0</td>\n",
       "      <td>0</td>\n",
       "      <td>0</td>\n",
       "      <td>3</td>\n",
       "      <td>5</td>\n",
       "    </tr>\n",
       "    <tr>\n",
       "      <th>2</th>\n",
       "      <td>12</td>\n",
       "      <td>162</td>\n",
       "      <td>0</td>\n",
       "      <td>0</td>\n",
       "      <td>0</td>\n",
       "      <td>0</td>\n",
       "      <td>3</td>\n",
       "      <td>8</td>\n",
       "      <td>7</td>\n",
       "      <td>36</td>\n",
       "      <td>...</td>\n",
       "      <td>0</td>\n",
       "      <td>0</td>\n",
       "      <td>7</td>\n",
       "      <td>30</td>\n",
       "      <td>61</td>\n",
       "      <td>0</td>\n",
       "      <td>0</td>\n",
       "      <td>3</td>\n",
       "      <td>13</td>\n",
       "      <td>49</td>\n",
       "    </tr>\n",
       "    <tr>\n",
       "      <th>3</th>\n",
       "      <td>13</td>\n",
       "      <td>603</td>\n",
       "      <td>0</td>\n",
       "      <td>0</td>\n",
       "      <td>3</td>\n",
       "      <td>3</td>\n",
       "      <td>7</td>\n",
       "      <td>20</td>\n",
       "      <td>60</td>\n",
       "      <td>144</td>\n",
       "      <td>...</td>\n",
       "      <td>0</td>\n",
       "      <td>3</td>\n",
       "      <td>21</td>\n",
       "      <td>152</td>\n",
       "      <td>218</td>\n",
       "      <td>0</td>\n",
       "      <td>3</td>\n",
       "      <td>6</td>\n",
       "      <td>52</td>\n",
       "      <td>150</td>\n",
       "    </tr>\n",
       "    <tr>\n",
       "      <th>4</th>\n",
       "      <td>14</td>\n",
       "      <td>1370</td>\n",
       "      <td>0</td>\n",
       "      <td>0</td>\n",
       "      <td>3</td>\n",
       "      <td>5</td>\n",
       "      <td>9</td>\n",
       "      <td>54</td>\n",
       "      <td>127</td>\n",
       "      <td>320</td>\n",
       "      <td>...</td>\n",
       "      <td>0</td>\n",
       "      <td>5</td>\n",
       "      <td>49</td>\n",
       "      <td>317</td>\n",
       "      <td>460</td>\n",
       "      <td>0</td>\n",
       "      <td>3</td>\n",
       "      <td>14</td>\n",
       "      <td>130</td>\n",
       "      <td>393</td>\n",
       "    </tr>\n",
       "  </tbody>\n",
       "</table>\n",
       "<p>5 rows × 22 columns</p>\n",
       "</div>"
      ],
      "text/plain": [
       "   week  deaths_total  age_0  age_10  age_20  age_30  age_40  age_50  age_60  \\\n",
       "0    10             3      0       0       0       0       0       3       3   \n",
       "1    11            18      0       0       0       0       0       0       3   \n",
       "2    12           162      0       0       0       0       3       8       7   \n",
       "3    13           603      0       0       3       3       7      20      60   \n",
       "4    14          1370      0       0       3       5       9      54     127   \n",
       "\n",
       "   age_70  ...  M0_19  M20_39  M40_59  M60_79  M80  F0_19  F20_39  F40_59  \\\n",
       "0       0  ...      0       0       3       3    0      0       0       0   \n",
       "1       6  ...      0       0       0       5    6      0       0       0   \n",
       "2      36  ...      0       0       7      30   61      0       0       3   \n",
       "3     144  ...      0       3      21     152  218      0       3       6   \n",
       "4     320  ...      0       5      49     317  460      0       3      14   \n",
       "\n",
       "   F60_79  F80  \n",
       "0       0    0  \n",
       "1       3    5  \n",
       "2      13   49  \n",
       "3      52  150  \n",
       "4     130  393  \n",
       "\n",
       "[5 rows x 22 columns]"
      ]
     },
     "execution_count": 12,
     "metadata": {},
     "output_type": "execute_result"
    }
   ],
   "source": [
    "deaths.head()"
   ]
  },
  {
   "cell_type": "code",
   "execution_count": 13,
   "metadata": {},
   "outputs": [
    {
     "data": {
      "text/html": [
       "<div>\n",
       "<style scoped>\n",
       "    .dataframe tbody tr th:only-of-type {\n",
       "        vertical-align: middle;\n",
       "    }\n",
       "\n",
       "    .dataframe tbody tr th {\n",
       "        vertical-align: top;\n",
       "    }\n",
       "\n",
       "    .dataframe thead th {\n",
       "        text-align: right;\n",
       "    }\n",
       "</style>\n",
       "<table border=\"1\" class=\"dataframe\">\n",
       "  <thead>\n",
       "    <tr style=\"text-align: right;\">\n",
       "      <th></th>\n",
       "      <th>week</th>\n",
       "      <th>laboratories</th>\n",
       "      <th>daily_cap</th>\n",
       "      <th>weekly_cap_est</th>\n",
       "      <th>weekly_cap_real</th>\n",
       "      <th>laboratories_tailback</th>\n",
       "      <th>tests_tailback</th>\n",
       "    </tr>\n",
       "  </thead>\n",
       "  <tbody>\n",
       "    <tr>\n",
       "      <th>0</th>\n",
       "      <td>11</td>\n",
       "      <td>28</td>\n",
       "      <td>7115</td>\n",
       "      <td>0</td>\n",
       "      <td>0</td>\n",
       "      <td>0.0</td>\n",
       "      <td>0.0</td>\n",
       "    </tr>\n",
       "    <tr>\n",
       "      <th>1</th>\n",
       "      <td>12</td>\n",
       "      <td>93</td>\n",
       "      <td>31010</td>\n",
       "      <td>0</td>\n",
       "      <td>0</td>\n",
       "      <td>0.0</td>\n",
       "      <td>0.0</td>\n",
       "    </tr>\n",
       "    <tr>\n",
       "      <th>2</th>\n",
       "      <td>13</td>\n",
       "      <td>111</td>\n",
       "      <td>64725</td>\n",
       "      <td>0</td>\n",
       "      <td>185655</td>\n",
       "      <td>0.0</td>\n",
       "      <td>0.0</td>\n",
       "    </tr>\n",
       "    <tr>\n",
       "      <th>3</th>\n",
       "      <td>14</td>\n",
       "      <td>113</td>\n",
       "      <td>103515</td>\n",
       "      <td>0</td>\n",
       "      <td>284580</td>\n",
       "      <td>0.0</td>\n",
       "      <td>0.0</td>\n",
       "    </tr>\n",
       "    <tr>\n",
       "      <th>4</th>\n",
       "      <td>15</td>\n",
       "      <td>132</td>\n",
       "      <td>116655</td>\n",
       "      <td>0</td>\n",
       "      <td>462880</td>\n",
       "      <td>25.0</td>\n",
       "      <td>3423.0</td>\n",
       "    </tr>\n",
       "  </tbody>\n",
       "</table>\n",
       "</div>"
      ],
      "text/plain": [
       "   week  laboratories  daily_cap  weekly_cap_est  weekly_cap_real  \\\n",
       "0    11            28       7115               0                0   \n",
       "1    12            93      31010               0                0   \n",
       "2    13           111      64725               0           185655   \n",
       "3    14           113     103515               0           284580   \n",
       "4    15           132     116655               0           462880   \n",
       "\n",
       "   laboratories_tailback  tests_tailback  \n",
       "0                    0.0             0.0  \n",
       "1                    0.0             0.0  \n",
       "2                    0.0             0.0  \n",
       "3                    0.0             0.0  \n",
       "4                   25.0          3423.0  "
      ]
     },
     "execution_count": 13,
     "metadata": {},
     "output_type": "execute_result"
    }
   ],
   "source": [
    "tests.head()"
   ]
  },
  {
   "cell_type": "code",
   "execution_count": 14,
   "metadata": {},
   "outputs": [
    {
     "data": {
      "text/html": [
       "<div>\n",
       "<style scoped>\n",
       "    .dataframe tbody tr th:only-of-type {\n",
       "        vertical-align: middle;\n",
       "    }\n",
       "\n",
       "    .dataframe tbody tr th {\n",
       "        vertical-align: top;\n",
       "    }\n",
       "\n",
       "    .dataframe thead th {\n",
       "        text-align: right;\n",
       "    }\n",
       "</style>\n",
       "<table border=\"1\" class=\"dataframe\">\n",
       "  <thead>\n",
       "    <tr style=\"text-align: right;\">\n",
       "      <th></th>\n",
       "      <th>year</th>\n",
       "      <th>week</th>\n",
       "      <th>cases_tot</th>\n",
       "      <th>mean_age</th>\n",
       "      <th>male_perc</th>\n",
       "      <th>female_perc</th>\n",
       "      <th>symptoms_reported</th>\n",
       "      <th>no_symptoms_perc</th>\n",
       "      <th>hospital_reported</th>\n",
       "      <th>hospital_num</th>\n",
       "      <th>hospital_perc</th>\n",
       "      <th>deaths_num</th>\n",
       "      <th>deaths_perc</th>\n",
       "    </tr>\n",
       "  </thead>\n",
       "  <tbody>\n",
       "    <tr>\n",
       "      <th>0</th>\n",
       "      <td>2020</td>\n",
       "      <td>10</td>\n",
       "      <td>895</td>\n",
       "      <td>43</td>\n",
       "      <td>0.53296</td>\n",
       "      <td>0.46704</td>\n",
       "      <td>835</td>\n",
       "      <td>0.07784</td>\n",
       "      <td>802</td>\n",
       "      <td>162</td>\n",
       "      <td>0.20200</td>\n",
       "      <td>12</td>\n",
       "      <td>0.01341</td>\n",
       "    </tr>\n",
       "    <tr>\n",
       "      <th>1</th>\n",
       "      <td>2020</td>\n",
       "      <td>11</td>\n",
       "      <td>6435</td>\n",
       "      <td>45</td>\n",
       "      <td>0.56288</td>\n",
       "      <td>0.43712</td>\n",
       "      <td>5780</td>\n",
       "      <td>0.05329</td>\n",
       "      <td>5615</td>\n",
       "      <td>521</td>\n",
       "      <td>0.09279</td>\n",
       "      <td>85</td>\n",
       "      <td>0.01321</td>\n",
       "    </tr>\n",
       "    <tr>\n",
       "      <th>2</th>\n",
       "      <td>2020</td>\n",
       "      <td>12</td>\n",
       "      <td>22432</td>\n",
       "      <td>45</td>\n",
       "      <td>0.54980</td>\n",
       "      <td>0.45020</td>\n",
       "      <td>20210</td>\n",
       "      <td>0.03859</td>\n",
       "      <td>19346</td>\n",
       "      <td>2204</td>\n",
       "      <td>0.11393</td>\n",
       "      <td>478</td>\n",
       "      <td>0.02131</td>\n",
       "    </tr>\n",
       "    <tr>\n",
       "      <th>3</th>\n",
       "      <td>2020</td>\n",
       "      <td>13</td>\n",
       "      <td>34029</td>\n",
       "      <td>48</td>\n",
       "      <td>0.49496</td>\n",
       "      <td>0.50504</td>\n",
       "      <td>30866</td>\n",
       "      <td>0.03246</td>\n",
       "      <td>29470</td>\n",
       "      <td>5110</td>\n",
       "      <td>0.17340</td>\n",
       "      <td>1459</td>\n",
       "      <td>0.04288</td>\n",
       "    </tr>\n",
       "    <tr>\n",
       "      <th>4</th>\n",
       "      <td>2020</td>\n",
       "      <td>14</td>\n",
       "      <td>36093</td>\n",
       "      <td>51</td>\n",
       "      <td>0.45074</td>\n",
       "      <td>0.54926</td>\n",
       "      <td>31986</td>\n",
       "      <td>0.05321</td>\n",
       "      <td>31488</td>\n",
       "      <td>6063</td>\n",
       "      <td>0.19255</td>\n",
       "      <td>2256</td>\n",
       "      <td>0.06251</td>\n",
       "    </tr>\n",
       "  </tbody>\n",
       "</table>\n",
       "</div>"
      ],
      "text/plain": [
       "   year  week  cases_tot  mean_age  male_perc  female_perc  symptoms_reported  \\\n",
       "0  2020    10        895        43    0.53296      0.46704                835   \n",
       "1  2020    11       6435        45    0.56288      0.43712               5780   \n",
       "2  2020    12      22432        45    0.54980      0.45020              20210   \n",
       "3  2020    13      34029        48    0.49496      0.50504              30866   \n",
       "4  2020    14      36093        51    0.45074      0.54926              31986   \n",
       "\n",
       "   no_symptoms_perc  hospital_reported  hospital_num  hospital_perc  \\\n",
       "0           0.07784                802           162        0.20200   \n",
       "1           0.05329               5615           521        0.09279   \n",
       "2           0.03859              19346          2204        0.11393   \n",
       "3           0.03246              29470          5110        0.17340   \n",
       "4           0.05321              31488          6063        0.19255   \n",
       "\n",
       "   deaths_num  deaths_perc  \n",
       "0          12      0.01341  \n",
       "1          85      0.01321  \n",
       "2         478      0.02131  \n",
       "3        1459      0.04288  \n",
       "4        2256      0.06251  "
      ]
     },
     "execution_count": 14,
     "metadata": {},
     "output_type": "execute_result"
    }
   ],
   "source": [
    "clinical.head()"
   ]
  },
  {
   "cell_type": "code",
   "execution_count": 15,
   "metadata": {},
   "outputs": [
    {
     "data": {
      "text/html": [
       "<div>\n",
       "<style scoped>\n",
       "    .dataframe tbody tr th:only-of-type {\n",
       "        vertical-align: middle;\n",
       "    }\n",
       "\n",
       "    .dataframe tbody tr th {\n",
       "        vertical-align: top;\n",
       "    }\n",
       "\n",
       "    .dataframe thead th {\n",
       "        text-align: right;\n",
       "    }\n",
       "</style>\n",
       "<table border=\"1\" class=\"dataframe\">\n",
       "  <thead>\n",
       "    <tr style=\"text-align: right;\">\n",
       "      <th></th>\n",
       "      <th>social_contacts</th>\n",
       "      <th>social_contacts_95_low</th>\n",
       "      <th>social_contacts_95_high</th>\n",
       "    </tr>\n",
       "    <tr>\n",
       "      <th>Altersgruppe</th>\n",
       "      <th></th>\n",
       "      <th></th>\n",
       "      <th></th>\n",
       "    </tr>\n",
       "  </thead>\n",
       "  <tbody>\n",
       "    <tr>\n",
       "      <th>90+</th>\n",
       "      <td>0.81</td>\n",
       "      <td>0.73</td>\n",
       "      <td>0.88</td>\n",
       "    </tr>\n",
       "    <tr>\n",
       "      <th>85 - 89</th>\n",
       "      <td>0.81</td>\n",
       "      <td>0.73</td>\n",
       "      <td>0.88</td>\n",
       "    </tr>\n",
       "    <tr>\n",
       "      <th>80 - 84</th>\n",
       "      <td>0.81</td>\n",
       "      <td>0.73</td>\n",
       "      <td>0.88</td>\n",
       "    </tr>\n",
       "    <tr>\n",
       "      <th>75 - 79</th>\n",
       "      <td>0.81</td>\n",
       "      <td>0.73</td>\n",
       "      <td>0.88</td>\n",
       "    </tr>\n",
       "    <tr>\n",
       "      <th>70 - 74</th>\n",
       "      <td>0.81</td>\n",
       "      <td>0.73</td>\n",
       "      <td>0.88</td>\n",
       "    </tr>\n",
       "  </tbody>\n",
       "</table>\n",
       "</div>"
      ],
      "text/plain": [
       "              social_contacts  social_contacts_95_low  social_contacts_95_high\n",
       "Altersgruppe                                                                  \n",
       "90+                      0.81                    0.73                     0.88\n",
       "85 - 89                  0.81                    0.73                     0.88\n",
       "80 - 84                  0.81                    0.73                     0.88\n",
       "75 - 79                  0.81                    0.73                     0.88\n",
       "70 - 74                  0.81                    0.73                     0.88"
      ]
     },
     "execution_count": 15,
     "metadata": {},
     "output_type": "execute_result"
    }
   ],
   "source": [
    "social_factors.head()"
   ]
  },
  {
   "cell_type": "markdown",
   "metadata": {
    "heading_collapsed": true
   },
   "source": [
    "# Data Analysis & Visualization"
   ]
  },
  {
   "cell_type": "markdown",
   "metadata": {
    "heading_collapsed": true,
    "hidden": true
   },
   "source": [
    "#### general overview & exploratory analysis\n",
    "* total cases, testing capacities and reporting"
   ]
  },
  {
   "cell_type": "code",
   "execution_count": 16,
   "metadata": {
    "hidden": true
   },
   "outputs": [
    {
     "name": "stdout",
     "output_type": "stream",
     "text": [
      "German population (in 1000 units): 83166.711\n"
     ]
    }
   ],
   "source": [
    "# total population\n",
    "total_population = population_states.sum()\n",
    "print(f'German population (in 1000 units): {total_population}')"
   ]
  },
  {
   "cell_type": "code",
   "execution_count": 17,
   "metadata": {
    "hidden": true
   },
   "outputs": [
    {
     "name": "stdout",
     "output_type": "stream",
     "text": [
      "Total cases reported in 2020: 2040521\n"
     ]
    }
   ],
   "source": [
    "# total cases (all newly reported infections, not active cases)reported until \n",
    "total_cases = overview['AnzahlFall'].sum()\n",
    "print(f'Total cases reported in 2020: {total_cases}')"
   ]
  },
  {
   "cell_type": "code",
   "execution_count": 18,
   "metadata": {
    "hidden": true
   },
   "outputs": [],
   "source": [
    "# total cases per week in 2020 (week 1-53)\n",
    "weekly_cases = overview.loc[overview['report_date_year'] != 2021].groupby(['report_date_week']).sum()['AnzahlFall'].fillna(0)"
   ]
  },
  {
   "cell_type": "code",
   "execution_count": 19,
   "metadata": {
    "hidden": true
   },
   "outputs": [
    {
     "data": {
      "image/png": "[encoded data removed]",
      "text/plain": [
       "<Figure size 1080x360 with 1 Axes>"
      ]
     },
     "metadata": {
      "needs_background": "light"
     },
     "output_type": "display_data"
    }
   ],
   "source": [
    "fig, ax = pfunc.plot_line(weekly_cases.rename('weekly cases'),\n",
    "                          title=f'Weekly Coronavirus Infections in 2020',\n",
    "                          xlabel='calendar week of 2020',\n",
    "                          ylabel='number of cases', \n",
    "                          filename='total_weekly_cases')"
   ]
  },
  {
   "cell_type": "markdown",
   "metadata": {
    "hidden": true
   },
   "source": [
    "During 2020, Germany went through 2 major pandemic waves: the first one in March and April (week 10-20) and the second, more severe one starting in week 40. Weekly new infections peaked during week 51, with 175000 new cases."
   ]
  },
  {
   "cell_type": "code",
   "execution_count": 20,
   "metadata": {
    "hidden": true
   },
   "outputs": [],
   "source": [
    "# delay in reporting (date of infection vs. date of reporting to authorities):\n",
    "report_delay = overview.loc[(overview['report_delay'] >= -30) & (overview['report_delay'] <= 30)]['report_delay']"
   ]
  },
  {
   "cell_type": "code",
   "execution_count": 21,
   "metadata": {
    "hidden": true
   },
   "outputs": [
    {
     "data": {
      "text/plain": [
       "<matplotlib.axes._subplots.AxesSubplot at 0x1eed54c0>"
      ]
     },
     "execution_count": 21,
     "metadata": {},
     "output_type": "execute_result"
    },
    {
     "data": {
      "image/png": "[encoded data removed]",
      "text/plain": [
       "<Figure size 432x288 with 1 Axes>"
      ]
     },
     "metadata": {
      "needs_background": "light"
     },
     "output_type": "display_data"
    }
   ],
   "source": [
    "report_delay.hist(bins=61)"
   ]
  },
  {
   "cell_type": "markdown",
   "metadata": {
    "hidden": true
   },
   "source": [
    "The delay between a Coronavirus infection and the notification of authorities is 0 if both occur on the same day OR if the date of infection is unknown. Since the estimated incubation period for the Coronavirus is 3-5 days on average, we can assume that the large number of null values is due to a high number of cases where the infection time (and source) is unknown. This assumption is backed by information on the RKI website, stating that \"in most cases, no infection source can be determined\".\n",
    "\n",
    "There are many outliers larger that 30 days in the data, as well as negative values, which I assume to be attributed to documentation errors, overload of the responsible authorities etc."
   ]
  },
  {
   "cell_type": "code",
   "execution_count": 22,
   "metadata": {
    "hidden": true
   },
   "outputs": [
    {
     "data": {
      "text/plain": [
       "array([[<matplotlib.axes._subplots.AxesSubplot object at 0x00B8BCD0>,\n",
       "        <matplotlib.axes._subplots.AxesSubplot object at 0x00BA7790>]],\n",
       "      dtype=object)"
      ]
     },
     "execution_count": 22,
     "metadata": {},
     "output_type": "execute_result"
    },
    {
     "data": {
      "image/png": "[encoded data removed]",
      "text/plain": [
       "<Figure size 432x288 with 2 Axes>"
      ]
     },
     "metadata": {
      "needs_background": "light"
     },
     "output_type": "display_data"
    }
   ],
   "source": [
    "# distribution of report and infection over the week (Mon-Sun)\n",
    "overview[['report_date_dayofweek', 'ref_date_dayofweek']].hist(bins=7)"
   ]
  },
  {
   "cell_type": "code",
   "execution_count": 23,
   "metadata": {
    "hidden": true
   },
   "outputs": [],
   "source": [
    "tests = tests.set_index(['week'])"
   ]
  },
  {
   "cell_type": "code",
   "execution_count": 24,
   "metadata": {
    "hidden": true
   },
   "outputs": [
    {
     "data": {
      "image/png": "[encoded data removed]",
      "text/plain": [
       "<Figure size 1080x360 with 1 Axes>"
      ]
     },
     "metadata": {
      "needs_background": "light"
     },
     "output_type": "display_data"
    }
   ],
   "source": [
    "# real and estimated testing capacities\n",
    "fig, ax = pfunc.plot_line(tests[['weekly_cap_est', 'weekly_cap_real']],\n",
    "                          title=f'real and estimated weekly PCR testing capacities',\n",
    "                          xlabel='calendar week of 2020',\n",
    "                          ylabel='test capacity [in million units]', \n",
    "                          linecolor=[blue_medium, 'black'],\n",
    "                          filename='test_capacities')"
   ]
  },
  {
   "cell_type": "code",
   "execution_count": 25,
   "metadata": {
    "hidden": true
   },
   "outputs": [
    {
     "ename": "KeyError",
     "evalue": "\"None of [Index(['symptom_status_known', 'hospital_status_known'], dtype='object')] are in the [columns]\"",
     "output_type": "error",
     "traceback": [
      "\u001b[1;31m---------------------------------------------------------------------------\u001b[0m",
      "\u001b[1;31mKeyError\u001b[0m                                  Traceback (most recent call last)",
      "\u001b[1;32m<ipython-input-25-e28f406465a3>\u001b[0m in \u001b[0;36m<module>\u001b[1;34m\u001b[0m\n\u001b[1;32m----> 1\u001b[1;33m fig, axes = pfunc.plot_line_multi(tests[['weekly_cap_est', 'weekly_cap_real']], clinical[['symptom_status_known', 'hospital_status_known']], \n\u001b[0m\u001b[0;32m      2\u001b[0m                             \u001b[0mtitle1\u001b[0m\u001b[1;33m=\u001b[0m\u001b[1;34m'real and estimated weekly PCR testing capacities'\u001b[0m\u001b[1;33m,\u001b[0m\u001b[1;33m\u001b[0m\u001b[1;33m\u001b[0m\u001b[0m\n\u001b[0;32m      3\u001b[0m                             \u001b[0mtitle2\u001b[0m\u001b[1;33m=\u001b[0m\u001b[1;34m'reporting rates of symptoms and hospitalisation status \\ncompared to total number of known cases'\u001b[0m\u001b[1;33m,\u001b[0m\u001b[1;33m\u001b[0m\u001b[1;33m\u001b[0m\u001b[0m\n\u001b[0;32m      4\u001b[0m                             \u001b[0mxlabels\u001b[0m\u001b[1;33m=\u001b[0m\u001b[1;33m[\u001b[0m\u001b[1;34m'calendar week'\u001b[0m\u001b[1;33m,\u001b[0m \u001b[1;34m'calendar week'\u001b[0m\u001b[1;33m]\u001b[0m\u001b[1;33m,\u001b[0m\u001b[1;33m\u001b[0m\u001b[1;33m\u001b[0m\u001b[0m\n\u001b[0;32m      5\u001b[0m                             \u001b[0mylabels\u001b[0m\u001b[1;33m=\u001b[0m\u001b[1;33m[\u001b[0m\u001b[1;34m'test capacity [in million units]'\u001b[0m\u001b[1;33m,\u001b[0m \u001b[1;34m'reporting rate [%]'\u001b[0m\u001b[1;33m]\u001b[0m\u001b[1;33m,\u001b[0m\u001b[1;33m\u001b[0m\u001b[1;33m\u001b[0m\u001b[0m\n",
      "\u001b[1;32m~\\AppData\\Local\\Programs\\Python\\Python38-32\\lib\\site-packages\\pandas\\core\\frame.py\u001b[0m in \u001b[0;36m__getitem__\u001b[1;34m(self, key)\u001b[0m\n\u001b[0;32m   2804\u001b[0m             \u001b[1;32mif\u001b[0m \u001b[0mis_iterator\u001b[0m\u001b[1;33m(\u001b[0m\u001b[0mkey\u001b[0m\u001b[1;33m)\u001b[0m\u001b[1;33m:\u001b[0m\u001b[1;33m\u001b[0m\u001b[1;33m\u001b[0m\u001b[0m\n\u001b[0;32m   2805\u001b[0m                 \u001b[0mkey\u001b[0m \u001b[1;33m=\u001b[0m \u001b[0mlist\u001b[0m\u001b[1;33m(\u001b[0m\u001b[0mkey\u001b[0m\u001b[1;33m)\u001b[0m\u001b[1;33m\u001b[0m\u001b[1;33m\u001b[0m\u001b[0m\n\u001b[1;32m-> 2806\u001b[1;33m             \u001b[0mindexer\u001b[0m \u001b[1;33m=\u001b[0m \u001b[0mself\u001b[0m\u001b[1;33m.\u001b[0m\u001b[0mloc\u001b[0m\u001b[1;33m.\u001b[0m\u001b[0m_get_listlike_indexer\u001b[0m\u001b[1;33m(\u001b[0m\u001b[0mkey\u001b[0m\u001b[1;33m,\u001b[0m \u001b[0maxis\u001b[0m\u001b[1;33m=\u001b[0m\u001b[1;36m1\u001b[0m\u001b[1;33m,\u001b[0m \u001b[0mraise_missing\u001b[0m\u001b[1;33m=\u001b[0m\u001b[1;32mTrue\u001b[0m\u001b[1;33m)\u001b[0m\u001b[1;33m[\u001b[0m\u001b[1;36m1\u001b[0m\u001b[1;33m]\u001b[0m\u001b[1;33m\u001b[0m\u001b[1;33m\u001b[0m\u001b[0m\n\u001b[0m\u001b[0;32m   2807\u001b[0m \u001b[1;33m\u001b[0m\u001b[0m\n\u001b[0;32m   2808\u001b[0m         \u001b[1;31m# take() does not accept boolean indexers\u001b[0m\u001b[1;33m\u001b[0m\u001b[1;33m\u001b[0m\u001b[1;33m\u001b[0m\u001b[0m\n",
      "\u001b[1;32m~\\AppData\\Local\\Programs\\Python\\Python38-32\\lib\\site-packages\\pandas\\core\\indexing.py\u001b[0m in \u001b[0;36m_get_listlike_indexer\u001b[1;34m(self, key, axis, raise_missing)\u001b[0m\n\u001b[0;32m   1550\u001b[0m             \u001b[0mkeyarr\u001b[0m\u001b[1;33m,\u001b[0m \u001b[0mindexer\u001b[0m\u001b[1;33m,\u001b[0m \u001b[0mnew_indexer\u001b[0m \u001b[1;33m=\u001b[0m \u001b[0max\u001b[0m\u001b[1;33m.\u001b[0m\u001b[0m_reindex_non_unique\u001b[0m\u001b[1;33m(\u001b[0m\u001b[0mkeyarr\u001b[0m\u001b[1;33m)\u001b[0m\u001b[1;33m\u001b[0m\u001b[1;33m\u001b[0m\u001b[0m\n\u001b[0;32m   1551\u001b[0m \u001b[1;33m\u001b[0m\u001b[0m\n\u001b[1;32m-> 1552\u001b[1;33m         self._validate_read_indexer(\n\u001b[0m\u001b[0;32m   1553\u001b[0m             \u001b[0mkeyarr\u001b[0m\u001b[1;33m,\u001b[0m \u001b[0mindexer\u001b[0m\u001b[1;33m,\u001b[0m \u001b[0mo\u001b[0m\u001b[1;33m.\u001b[0m\u001b[0m_get_axis_number\u001b[0m\u001b[1;33m(\u001b[0m\u001b[0maxis\u001b[0m\u001b[1;33m)\u001b[0m\u001b[1;33m,\u001b[0m \u001b[0mraise_missing\u001b[0m\u001b[1;33m=\u001b[0m\u001b[0mraise_missing\u001b[0m\u001b[1;33m\u001b[0m\u001b[1;33m\u001b[0m\u001b[0m\n\u001b[0;32m   1554\u001b[0m         )\n",
      "\u001b[1;32m~\\AppData\\Local\\Programs\\Python\\Python38-32\\lib\\site-packages\\pandas\\core\\indexing.py\u001b[0m in \u001b[0;36m_validate_read_indexer\u001b[1;34m(self, key, indexer, axis, raise_missing)\u001b[0m\n\u001b[0;32m   1638\u001b[0m             \u001b[1;32mif\u001b[0m \u001b[0mmissing\u001b[0m \u001b[1;33m==\u001b[0m \u001b[0mlen\u001b[0m\u001b[1;33m(\u001b[0m\u001b[0mindexer\u001b[0m\u001b[1;33m)\u001b[0m\u001b[1;33m:\u001b[0m\u001b[1;33m\u001b[0m\u001b[1;33m\u001b[0m\u001b[0m\n\u001b[0;32m   1639\u001b[0m                 \u001b[0maxis_name\u001b[0m \u001b[1;33m=\u001b[0m \u001b[0mself\u001b[0m\u001b[1;33m.\u001b[0m\u001b[0mobj\u001b[0m\u001b[1;33m.\u001b[0m\u001b[0m_get_axis_name\u001b[0m\u001b[1;33m(\u001b[0m\u001b[0maxis\u001b[0m\u001b[1;33m)\u001b[0m\u001b[1;33m\u001b[0m\u001b[1;33m\u001b[0m\u001b[0m\n\u001b[1;32m-> 1640\u001b[1;33m                 \u001b[1;32mraise\u001b[0m \u001b[0mKeyError\u001b[0m\u001b[1;33m(\u001b[0m\u001b[1;34mf\"None of [{key}] are in the [{axis_name}]\"\u001b[0m\u001b[1;33m)\u001b[0m\u001b[1;33m\u001b[0m\u001b[1;33m\u001b[0m\u001b[0m\n\u001b[0m\u001b[0;32m   1641\u001b[0m \u001b[1;33m\u001b[0m\u001b[0m\n\u001b[0;32m   1642\u001b[0m             \u001b[1;31m# We (temporarily) allow for some missing keys with .loc, except in\u001b[0m\u001b[1;33m\u001b[0m\u001b[1;33m\u001b[0m\u001b[1;33m\u001b[0m\u001b[0m\n",
      "\u001b[1;31mKeyError\u001b[0m: \"None of [Index(['symptom_status_known', 'hospital_status_known'], dtype='object')] are in the [columns]\""
     ]
    }
   ],
   "source": [
    "fig, axes = pfunc.plot_line_multi(tests[['weekly_cap_est', 'weekly_cap_real']], clinical[['symptom_status_known', 'hospital_status_known']], \n",
    "                            title1='real and estimated weekly PCR testing capacities', \n",
    "                            title2='reporting rates of symptoms and hospitalisation status \\ncompared to total number of known cases', \n",
    "                            xlabels=['calendar week', 'calendar week'], \n",
    "                            ylabels=['test capacity [in million units]', 'reporting rate [%]'],\n",
    "                            linecolor=['black', blue_medium], \n",
    "                            filename='test_capacities_vs_reporting')"
   ]
  },
  {
   "cell_type": "code",
   "execution_count": null,
   "metadata": {
    "hidden": true
   },
   "outputs": [],
   "source": [
    "fig, axes = pfunc.plot_line_multi(tests['tests_tailback'], (tests['weekly_cap_real']/tests['weekly_cap_est']).rename('used_capacity'), \n",
    "                            title1='total number of laboratory tailbacks', \n",
    "                            title2='usage of real in relation to theoretical testing capacities', \n",
    "                            xlabels=['calendar week', 'calendar week'], \n",
    "                            ylabels=['number of tailbacks', 'used capacity [%]'], \n",
    "                            filename='test_capacities_tailbacks')"
   ]
  },
  {
   "cell_type": "markdown",
   "metadata": {
    "hidden": true
   },
   "source": [
    "Real testing capacities vary between 71% and 94% of estimated testing capacities, but there is only one visible overloads which could specifically be attributed to the pandemic wave in winter: Testing tailbacks accumulate temporarily, with 100000 tests overdue in week 44, but this seems to be compensated again.\n",
    "\n",
    "There is a distinct drop in both in real and theoretical test capacities over the christmas holidays.\n",
    "\n",
    "Overall, test capacities only increase linearly throughout the course of the year, despite almost exponential development of infections especially during the second pandemic wave."
   ]
  },
  {
   "cell_type": "code",
   "execution_count": null,
   "metadata": {
    "hidden": true
   },
   "outputs": [],
   "source": [
    "# test rate: percentage of detected cases relative to total number of tests administered\n",
    "test_rate = (weekly_cases.loc[13:53]/tests['weekly_cap_real'].loc[13:53])*100\n",
    "\n",
    "fig, ax = pfunc.plot_line(test_rate.rename('confirmed cases rate'),\n",
    "                          title=f'percentage of confirmed cases relative to total number of tests administered',\n",
    "                          xlabel='calendar week of 2020',\n",
    "                          ylabel='positive test results [%]',\n",
    "                          filename='test_rate')"
   ]
  },
  {
   "cell_type": "code",
   "execution_count": null,
   "metadata": {
    "hidden": true
   },
   "outputs": [],
   "source": [
    "print(f'minimum rate of positive test results: {test_rate.min()}%\\\n",
    "\\nmean rate of positive test results in summer, CW 20-40: {test_rate.loc[20:40].mean()}%')"
   ]
  },
  {
   "cell_type": "markdown",
   "metadata": {
    "hidden": true
   },
   "source": [
    "The effects of both pandemic waves are clearly visible in the relation between positive test results and total number of tests administered: this rate drops from 18% at the beginning (little test capacities, testing only symptomatic cases) to below 0.6% during the whole summer (broad testing also for travellers, contact tracing and routine testing of potential contact persons without symptoms). During the second wave, the rates of positive test results increase again to up to 10%."
   ]
  },
  {
   "cell_type": "markdown",
   "metadata": {
    "heading_collapsed": true,
    "hidden": true
   },
   "source": [
    "#### analyse geographical case distribution - how did the pandemic spread across the country?"
   ]
  },
  {
   "cell_type": "markdown",
   "metadata": {
    "hidden": true
   },
   "source": [
    "**Definitions**\n",
    "* case incidence = cases / 100000 people"
   ]
  },
  {
   "cell_type": "code",
   "execution_count": null,
   "metadata": {
    "hidden": true
   },
   "outputs": [],
   "source": [
    "# total cases per week per federal state in 2020\n",
    "weekly_cases_per_state = overview.loc[overview['report_date_year'] != 2021].groupby(['Bundesland', 'report_date_week']).sum()['AnzahlFall'].unstack().fillna(0)"
   ]
  },
  {
   "cell_type": "code",
   "execution_count": null,
   "metadata": {
    "hidden": true
   },
   "outputs": [],
   "source": [
    "# weekly incidence per federal state\n",
    "weekly_incidence_per_state = (weekly_cases_per_state.div(population_states, axis=0))*100\n",
    "\n",
    "# total weekly incidence\n",
    "weekly_incidence = (weekly_cases/total_population)*100"
   ]
  },
  {
   "cell_type": "code",
   "execution_count": null,
   "metadata": {
    "hidden": true
   },
   "outputs": [],
   "source": [
    "# heatmap: weekly cases per week per federal state in 2020\n",
    "fig, ax = pfunc.plot_heatmap(weekly_cases_per_state,\n",
    "                             title='total cases per federal state over time',\n",
    "                             filename='cases_total_per_state',\n",
    "                             figsize=(15, 8), annot=True, fmt='.0f')"
   ]
  },
  {
   "cell_type": "code",
   "execution_count": null,
   "metadata": {
    "hidden": true
   },
   "outputs": [],
   "source": [
    "# heatmap: weekly incidence per week per federal state in 2020\n",
    "fig, ax = pfunc.plot_heatmap(weekly_incidence_per_state,\n",
    "                             title='case incidence per federal state over time',\n",
    "                             filename='incidence_state',\n",
    "                             figsize=(15, 7.5), annot=True, fmt='.1f')"
   ]
  },
  {
   "cell_type": "markdown",
   "metadata": {
    "hidden": true
   },
   "source": [
    "During the first wave, infections mostly coincided with areas of high population or high population density. Both total case numbers and incidences, i.e. cases per 100,000 inhabitants, were highest in those states with the largest overall population as well as in large cities like Hamburg or Berlin (exception: Saarland close to the French border).\n",
    "\n",
    "During the second wave, incidences were high everywhere, indicating that the **virus had by then infested the whole country instead of occuring in local clusters**. While the sparsely populated North (Mecklenburg-Western Pomerania and Schleswig-Holstein) still had the lowest incidences, two neighbouring states in eastern Germany, Thuringia and Saxony, were overproportionally hit."
   ]
  },
  {
   "cell_type": "markdown",
   "metadata": {
    "heading_collapsed": true,
    "hidden": true
   },
   "source": [
    "#### analyze case distribution among age groups - who was affected and to what proportions?"
   ]
  },
  {
   "cell_type": "code",
   "execution_count": null,
   "metadata": {
    "hidden": true
   },
   "outputs": [],
   "source": [
    "# cases per age group over time (total)\n",
    "age_total = cfunc.remove_column_substr(cases_age1.set_index('Altersgruppe'), '2020_').drop(['Gesamt'], axis=0)\n",
    "\n",
    "# cases per age group over time (incidence)\n",
    "age_incidence = cfunc.remove_column_substr(cases_age2.set_index('Altersgruppe'), '2020_')\n",
    "\n",
    "# cases per age group over time (incidence) relative to overall incidence at the time\n",
    "# shows the proportion to which an age group was affected in comparison to the overall population\n",
    "age_norm = age_incidence/age_incidence.iloc[0,:]"
   ]
  },
  {
   "cell_type": "code",
   "execution_count": null,
   "metadata": {
    "hidden": true
   },
   "outputs": [],
   "source": [
    "# heatmap: cases per age group over time (total)\n",
    "fig, ax = pfunc.plot_heatmap(age_total,\n",
    "                             title='total cases per age group over time',\n",
    "                             filename='cases_total_per_age',\n",
    "                             figsize=(15, 8), annot=True, fmt='d')"
   ]
  },
  {
   "cell_type": "markdown",
   "metadata": {
    "hidden": true
   },
   "source": [
    "A quick glance at Germany's [age pyramid](https://service.destatis.de/bevoelkerungspyramide/index.html) shows us that age groups with a larger population have higher case numbers. Hence, case incidences (i.e. cases per 100,000 people in the respective age group) provide more comparable information about how Coronavirus infections occur across age groups."
   ]
  },
  {
   "cell_type": "code",
   "execution_count": null,
   "metadata": {
    "hidden": true
   },
   "outputs": [],
   "source": [
    "# heatmap: cases per age group over time (incidence)\n",
    "fig, ax = pfunc.plot_heatmap(age_incidence,\n",
    "                             title='case incidence (cases/100.000 people) per age group over time',\n",
    "                             filename='incidence_age_overall',\n",
    "                             figsize=(15, 8), annot=True, fmt='.1f')"
   ]
  },
  {
   "cell_type": "markdown",
   "metadata": {
    "hidden": true
   },
   "source": [
    "The case incidences show that the Coronavirus did indeed spread to all age groups throughout the year, yet it did not occur evenly in all age groups. Those over 85 years of age were actually affected much heavier than all other age groups especially during the second wave, while retirees below 80 and children were affected less. Still, we do not have a clear picture of what happens over the summer.\n",
    "\n",
    "_Solution: look at the relative case incidence_\n",
    "\n",
    "The case incidence within a specific group in relation to the general population at the time allows us to visualize better how severely a group was affected in comparison to the general population at the time. Due to the huge range of the overall incidence over time (0...722), smaller variations are otherwise less visible. Bear in mind that the overall incidence is influenced heavily by the larger groups (i.e. the population 30-65 years of age), so these groups tend to be near a relative value of 1.\n",
    "\n",
    "Another aspect is that when looking at correlations, total numbers and incidences give us strongly positive correlations between nearly all groups. While this holds true (case numbers nearly rise across all age groups during a pandemic), it is also interesting to see whether two groups being affected over- or underproportionally correlate with other factors."
   ]
  },
  {
   "cell_type": "code",
   "execution_count": null,
   "metadata": {
    "hidden": true
   },
   "outputs": [],
   "source": [
    "# heatmap: cases per age group over time (incidence) relative to overall case incidence\n",
    "fig, ax = pfunc.plot_heatmap_and_line(age_norm.drop(['Gesamt'], axis=0),\n",
    "                                      x_line=age_incidence.iloc[0].index, y_line=age_incidence.iloc[0], df_line=None,\n",
    "                                      title1='case incidence (cases/100.000 people) per age group over time - relative to total case incidence',\n",
    "                                      filename='incidence_age_relative',\n",
    "                                      title2='total case incidence over time',\n",
    "                                      figsize=(15, 10), annot=True, fmt='.1f')"
   ]
  },
  {
   "cell_type": "markdown",
   "metadata": {
    "hidden": true
   },
   "source": [
    "Case incidence among those over 90 years up to 5 times higher in comparison to the overall population during times with high overall incidences, with a peak during the first wave.\n",
    "\n",
    "During summer there is a shift: most restrictions (except for bans on large events) were lifted, people traveled and, as expected, the more mobile younger generation 20-30 had the highest incidences and case numbers.\n",
    "\n",
    "Retirees between 65 and 70 years are constantly affected less than the general population."
   ]
  },
  {
   "cell_type": "code",
   "execution_count": null,
   "metadata": {
    "hidden": true
   },
   "outputs": [],
   "source": [
    "# correlation of relative incidences between age groups\n",
    "age_groups_corr = age_norm.T.corr()"
   ]
  },
  {
   "cell_type": "code",
   "execution_count": null,
   "metadata": {
    "hidden": true
   },
   "outputs": [],
   "source": [
    "# correlation of _proportion_ to which two groups were affected by the Coronavirus\n",
    "fig, ax = pfunc.plot_heatmap(age_groups_corr,\n",
    "                             title=f'correlation of relative incidences between age groups',\n",
    "                             filename='corr_age_groups',\n",
    "                             annot=True, fmt='.1f', figsize=(8,6), center=0)"
   ]
  },
  {
   "cell_type": "markdown",
   "metadata": {
    "heading_collapsed": true,
    "hidden": true
   },
   "source": [
    "#### analyze breakouts - which infection sources are dominant over time and who is affected?\n",
    "* breakout = 2 or more related cases that were documented as being related\n",
    "* setting = environment in which the infections occurred"
   ]
  },
  {
   "cell_type": "code",
   "execution_count": null,
   "metadata": {
    "hidden": true
   },
   "outputs": [],
   "source": [
    "# total number of cases attributed to breakouts - grouped in different infection settings\n",
    "breakouts_time_per_setting = breakouts.groupby(['week', 'sett_engl'])['num_breakouts'].sum().unstack().fillna(0)\n",
    "\n",
    "# top 10 infection settings\n",
    "breakouts_time_per_setting.sum().sort_values(ascending=False).head(n=10)"
   ]
  },
  {
   "cell_type": "code",
   "execution_count": null,
   "metadata": {
    "hidden": true
   },
   "outputs": [],
   "source": [
    "# total number of cases attributed to breakouts per infection setting\n",
    "fig, ax = pfunc.plot_line(breakouts_time_per_setting,\n",
    "                          title='total number of breakouts per infection setting', \n",
    "                          xlabel='calendar week of 2020', \n",
    "                          ylabel='total number of cases', \n",
    "                          linecolor=default,\n",
    "                          filename='total_breakouts')"
   ]
  },
  {
   "cell_type": "code",
   "execution_count": null,
   "metadata": {
    "hidden": true
   },
   "outputs": [],
   "source": [
    "# of all documented breakouts, what percentage of cases occurred in which infection setting? \n",
    "breakouts_time_per_setting_rel = (breakouts_time_per_setting.div(breakouts_time_per_setting.sum(axis=1), axis=0)).fillna(0)"
   ]
  },
  {
   "cell_type": "code",
   "execution_count": null,
   "metadata": {
    "hidden": true
   },
   "outputs": [],
   "source": [
    "# of all documented breakouts, what percentage of cases occurred in which infection setting?\n",
    "fig, ax = pfunc.plot_bar(breakouts_time_per_setting_rel*100,\n",
    "                         title='infection settings relative to total number of breakouts in percent [%]',\n",
    "                         color=default, \n",
    "                         xlabel='calendar weenk of 2020',\n",
    "                         ylabel='percentage [%]', \n",
    "                         filename='shares_breakouts',\n",
    "                         stacked=True)"
   ]
  },
  {
   "cell_type": "code",
   "execution_count": null,
   "metadata": {
    "hidden": true
   },
   "outputs": [],
   "source": [
    "breakouts_time_per_setting['Dining venue'].plot()"
   ]
  },
  {
   "cell_type": "markdown",
   "metadata": {
    "hidden": true
   },
   "source": [
    "Private households continuosly make up for a large share of the infections, and cases there often go along with peaks in other breakout settings.It seems obvious here that infections are often carried home.\n",
    "\n",
    "Over time, there were multiple shifts: both waves come with a massive surge of cases in retirement/nursing homes (along with other care and medical facilities such as general hospitals), both in total and relative to other sources and accounting for up to 40% of cases during the second wave \n",
    "* this coincides with the high case incidences among those aged 90+\n",
    "* it is unclear whether the cases among caretakers are allocated to \"work place\" or the medical facility they work in.\n",
    "\n",
    "During summer, when overall case numbers were low, the share of infection sources which can be attributed to private households and social life grows. There is a distinct peak of workplace breakouts in June, which can be directly explained by a single breakout in a meat factory with over 2000 infections among employees and relatives.\n",
    "\n",
    "The number of \"unknown\" infection sources seems pretty low and stable, given the fact that there were two pandemic waves with rapidly increasing numbers of Coronavirus infections. _But_ as a) infection sources are only documented for breakouts, and b) as only 2 or more related cases are documented as a breakout, we have to assume that the infection source of all remaining cases is unknown:\n",
    "\n",
    "`single_unknown_cases = total_cases - sum(cases_from_breakouts)`"
   ]
  },
  {
   "cell_type": "code",
   "execution_count": null,
   "metadata": {
    "hidden": true
   },
   "outputs": [],
   "source": [
    "# calculate weekly cases with unknown infection setting as: single_unknown_cases = total_cases - sum(cases_from_breakouts)\n",
    "unknown_cases = pd.concat([weekly_cases, breakouts_time_per_setting.sum(axis=1).rename('weekly_sum_breakouts')], axis=1).fillna(0).loc[:53, :]\n",
    "unknown_cases['weekly_single_unknown_cases'] = unknown_cases['AnzahlFall'] - unknown_cases['weekly_sum_breakouts']\n",
    "unknown_cases['weekly_sum_breakouts_perc'] = unknown_cases['weekly_sum_breakouts']/unknown_cases['AnzahlFall']\n",
    "\n",
    "mean_reported = unknown_cases['weekly_sum_breakouts_perc'].loc[9:].mean()\n",
    "print(f'mean percentage of cases that are attributed to a breakout (starting week 9): {round(mean_reported*100, 2)}%')"
   ]
  },
  {
   "cell_type": "code",
   "execution_count": null,
   "metadata": {
    "hidden": true
   },
   "outputs": [],
   "source": [
    "# percentage of cases attributed to a breakout in relation to total number of cases\n",
    "fig, ax = pfunc.plot_line(unknown_cases['weekly_sum_breakouts_perc'].loc[9:]*100,\n",
    "                          title=f'percentage of cases attributed to a breakout in relation to total number of cases',\n",
    "                          ylabel='percentage [%]', \n",
    "                          xlabel='calendar week of 2020', \n",
    "                          linecolor=default,\n",
    "                          filename='traced_cases_perc')"
   ]
  },
  {
   "cell_type": "code",
   "execution_count": null,
   "metadata": {
    "hidden": true
   },
   "outputs": [],
   "source": [
    "# total number of cases as: cases attributed to a breakout vs. cases without a documented infection setting\n",
    "fig, ax = pfunc.plot_bar(unknown_cases[['weekly_sum_breakouts', 'weekly_single_unknown_cases']],\n",
    "                          title=f'cases attributed to a breakout vs. cases without a documented infection setting',\n",
    "                          color=[blue_dark, blue_light], \n",
    "                          xlabel='calendar weenk of 2020',\n",
    "                        ylabel='total number of cases', \n",
    "                          filename='unknown_vs_known_cases', stacked=True)"
   ]
  },
  {
   "cell_type": "code",
   "execution_count": null,
   "metadata": {
    "hidden": true
   },
   "outputs": [],
   "source": [
    "print(f'average cases attributed to a breakout: {unknown_cases.weekly_sum_breakouts_perc.loc[9:].mean()*100}\\\n",
    "\\n...during summer (week 20-40): {unknown_cases.weekly_sum_breakouts_perc.loc[20:40].mean()*100}\\\n",
    "\\n...during second wave (week 41-53): {unknown_cases.weekly_sum_breakouts_perc.loc[41:53].mean()*100}')"
   ]
  },
  {
   "cell_type": "markdown",
   "metadata": {
    "hidden": true
   },
   "source": [
    "On average, 30% of cases are attributed to a breakout setting. When infection rates rose the fastest, i.e. at the beginning of both pandemic waves, this percentage dropped significantly, to 14.1% during the first wave and 12.6% during the second. Only in February and during summer, when infection rates were low, a larger share of cases was traced back to a specific infection setting. The beginning of the first wave and the well-documented meat factory incident make up for significant peaks here, again."
   ]
  },
  {
   "cell_type": "code",
   "execution_count": null,
   "metadata": {
    "hidden": true
   },
   "outputs": [],
   "source": [
    "# add single unknown cases to breakouts\n",
    "breakouts_time_per_setting2 = breakouts_time_per_setting.copy(deep=True)\n",
    "breakouts_time_per_setting2['Unknown single'] = unknown_cases['weekly_single_unknown_cases'].loc[9:]\n",
    "breakouts_time_per_setting2['Unknown total'] = breakouts_time_per_setting2['Unknown single'] + breakouts_time_per_setting2['Unknown']\n",
    "\n",
    "# calculate new numbers and percentages of breakouts\n",
    "breakouts_time_per_setting_rel2 = (breakouts_time_per_setting2.drop(['Unknown single', 'Unknown'], axis=1)\n",
    "                                   .div(breakouts_time_per_setting2.drop(['Unknown single', 'Unknown'], axis=1).sum(axis=1), axis=0)).fillna(0)"
   ]
  },
  {
   "cell_type": "code",
   "execution_count": null,
   "metadata": {
    "hidden": true
   },
   "outputs": [],
   "source": [
    "fig, ax = pfunc.plot_bar((breakouts_time_per_setting_rel2.reindex(sorted(breakouts_time_per_setting_rel2.columns), axis=1).loc[:53,:])*100,\n",
    "                          title=f'breakouts in different infection settings relative to total number of cases in percent [%]',\n",
    "                          color=default, \n",
    "                          xlabel='calendar weenk of 2020',\n",
    "                          ylabel='percentage [%]', \n",
    "                          filename='shares_breakouts_total', stacked=True)"
   ]
  },
  {
   "cell_type": "markdown",
   "metadata": {
    "hidden": true
   },
   "source": [
    "Adding individual cases to the “unknown” category of infection settings yields more realistic picture of the status of case tracing. The vast majority of cases now comes from unknown sources — during the second wave, around 85%. This indicates that especially during times of high infection rates, authorities were overwhelmed with case tracing and would hence be at a higher risk to miss infection chains, which would drive up the number of undetected cases."
   ]
  },
  {
   "cell_type": "code",
   "execution_count": null,
   "metadata": {
    "hidden": true
   },
   "outputs": [],
   "source": [
    "# correlations between relative incidence in age groups and reported breakouts\n",
    "age_norm_trans = age_norm.rename(columns={'2021_1': '54'}).T\n",
    "age_norm_trans.index = age_norm_trans.index.astype('int').rename('week')\n",
    "age_vs_breakouts = pd.concat([breakouts_time_per_setting2, age_norm_trans], axis=1)\n",
    "age_vs_breakouts_summer = pd.concat([breakouts_time_per_setting2, age_norm_trans], axis=1).loc[18:44, :]\n",
    "\n",
    "# correlation age vs breakouts: take upper right side of correlation matrix\n",
    "age_vs_breakouts_corr = age_vs_breakouts.corr().loc[:'Work place', '90+':]"
   ]
  },
  {
   "cell_type": "code",
   "execution_count": null,
   "metadata": {
    "hidden": true
   },
   "outputs": [],
   "source": [
    "# correlations between relative case incidence in age groups and number of cases allocated to breakout settings\n",
    "fig, ax = pfunc.plot_heatmap(age_vs_breakouts_corr,\n",
    "                             title=f'correlations between relative case incidence in age groups \\nand number of cases allocated to breakout settings',\n",
    "                             filename='corr_age_breakouts',\n",
    "                             annot=True, fmt='.1f', figsize=(8,6), center=0)"
   ]
  },
  {
   "cell_type": "markdown",
   "metadata": {
    "hidden": true
   },
   "source": [
    "The correlations here back the assumption that elderly people being overproportionally affected by Coronavirus infections (in comparison the general population) highly correlate with breakouts in nursing homes and medical facilities. Younger people on the other hand seem to rather catch infections in settings related to social live."
   ]
  },
  {
   "cell_type": "markdown",
   "metadata": {
    "heading_collapsed": true,
    "hidden": true
   },
   "source": [
    "#### clinical data"
   ]
  },
  {
   "cell_type": "code",
   "execution_count": null,
   "metadata": {
    "hidden": true
   },
   "outputs": [],
   "source": [
    "# clinical data: cases, symptoms, hospitalisation\n",
    "clinical[['no_symptoms_perc', 'hospital_perc', 'deaths_perc']] = clinical[['no_symptoms_perc', 'hospital_perc', 'deaths_perc']]*100\n",
    "\n",
    "# rates of clinical status reporting for all known cases\n",
    "clinical['symptom_status_known'] = clinical['symptoms_reported']/clinical['cases_tot']\n",
    "clinical['hospital_status_known'] = clinical['hospital_reported']/clinical['cases_tot']\n",
    "\n",
    "# number of known asymptotic cases\n",
    "clinical['no_symptoms_num'] = clinical['symptoms_reported']*clinical['no_symptoms_perc']/100\n",
    "\n",
    "clinical['death_vs_tot'] = clinical['deaths_num']/clinical['cases_tot']\n",
    "clinical['hospital_vs_tot'] = clinical['hospital_num']/clinical['cases_tot']\n",
    "clinical['asymptomatic_vs_tot'] = clinical['no_symptoms_num']/clinical['cases_tot']"
   ]
  },
  {
   "cell_type": "code",
   "execution_count": null,
   "metadata": {
    "hidden": true
   },
   "outputs": [],
   "source": [
    "# cumulative percentages of hospitalized cases and deaths per total number of cases\n",
    "hospitalized_cum = clinical['hospital_num'].sum()/clinical['cases_tot'].sum()\n",
    "deaths_cum = clinical['deaths_num'].sum()/clinical['cases_tot'].sum()\n",
    "clinical_corrs = clinical[['cases_tot', 'hospital_num', 'deaths_num']].corr()\n",
    "\n",
    "print(f'cumulative hospitalizations per total number of infections: {round(hospitalized_cum*100, 2)}%\\\n",
    "        \\ncumulative deaths per total number of infections: {round(deaths_cum*100, 2)}%')"
   ]
  },
  {
   "cell_type": "code",
   "execution_count": null,
   "metadata": {
    "hidden": true
   },
   "outputs": [],
   "source": [
    "# percentages of hospitalized cases and deaths per cases for whiche the respective information was provided\n",
    "fig, ax = pfunc.plot_line(clinical[['mean_age', 'no_symptoms_perc', 'hospital_perc', 'deaths_perc']],\n",
    "                          title=f'asymptomatic cases vs. hospitalisaton and death rates \\n(in relation to cases with respective information reported)',\n",
    "                          ylabel='age [years] / percentage [%]',\n",
    "                          xlabel='calendar week of 2020', \n",
    "                          linecolor=['black', color1[0], blue_light, color2[1]],\n",
    "                          filename='clinical_rates_reported')"
   ]
  },
  {
   "cell_type": "code",
   "execution_count": null,
   "metadata": {
    "hidden": true
   },
   "outputs": [],
   "source": [
    "fig, ax = pfunc.plot_line(clinical[['symptom_status_known', 'hospital_status_known']],\n",
    "                          title=f'reporting rates of symptoms and hospitalisation status \\ncompared to total number of known cases',\n",
    "                          ylabel='reporting rate [%]',\n",
    "                          xlabel='calendar week of 2020', \n",
    "                          linecolor=[color1[0], blue_medium],\n",
    "                          filename='reporting_rates')"
   ]
  },
  {
   "cell_type": "markdown",
   "metadata": {
    "heading_collapsed": true,
    "hidden": true
   },
   "source": [
    "#### estimate number of undetected cases (dark figures) across age groups\n",
    "implementing a statistical approach based on a study on the influence of social contacts on the spread of infectious diseases. The approach was introduced by Dr. Sascha Feth from the Fraunhofer Institute for Industrial Mathematics ITWM in his [blog](https://www.itwm.fraunhofer.de/de/abteilungen/mf/aktuelles/blog-streuspanne/corona-dunkelziffer.html) and applied to cases in Italy in April 2020."
   ]
  },
  {
   "cell_type": "code",
   "execution_count": null,
   "metadata": {
    "hidden": true
   },
   "outputs": [],
   "source": [
    "# normalize relative number of social contacts for the population 70+ to be the benchmark\n",
    "social_factors = social_factors/social_factors['social_contacts'].loc['90+']"
   ]
  },
  {
   "cell_type": "code",
   "execution_count": null,
   "metadata": {
    "hidden": true
   },
   "outputs": [],
   "source": [
    "social_factors"
   ]
  },
  {
   "cell_type": "code",
   "execution_count": null,
   "metadata": {
    "hidden": true
   },
   "outputs": [],
   "source": [
    "# assume benchmark incidence for all age groups\n",
    "age_incidence_max = age_incidence.copy(deep=True)\n",
    "\n",
    "for col in age_incidence.columns:\n",
    "    # replace all incidences with the highest one at the time\n",
    "#     age_incidence_max[col] = age_incidence[col].max()\n",
    "    # if max incidence is among those 70+ years of age, take that incidence as benchmark\n",
    "    if (age_incidence[col].max() == age_incidence[col].loc['90+'])|\\\n",
    "    (age_incidence[col].max() == age_incidence[col].loc['85 - 89'])|\\\n",
    "    (age_incidence[col].max() == age_incidence[col].loc['80 - 84'])|\\\n",
    "    (age_incidence[col].max() == age_incidence[col].loc['75 - 79'])|\\\n",
    "    (age_incidence[col].max() == age_incidence[col].loc['70 - 74']):\n",
    "        age_incidence_max[col] = age_incidence[col].max()\n",
    "    \n",
    "age_incidence_max = age_incidence_max.iloc[1:,:]\n",
    "age_incidence_max"
   ]
  },
  {
   "cell_type": "code",
   "execution_count": null,
   "metadata": {
    "hidden": true
   },
   "outputs": [],
   "source": [
    "# get estimated incidences: multiply by relative number of social contacts (including 95% intervals)\n",
    "age_incidence_factorized = age_incidence_max.mul(social_factors['social_contacts'], axis=0)\n",
    "age_incidence_factorized_95_low = age_incidence_max.mul(social_factors['social_contacts_95_low'], axis=0)\n",
    "age_incidence_factorized_95_high = age_incidence_max.mul(social_factors['social_contacts_95_high'], axis=0)"
   ]
  },
  {
   "cell_type": "code",
   "execution_count": null,
   "metadata": {
    "hidden": true
   },
   "outputs": [],
   "source": [
    "# heatmap: estimated incidences per age group over time (without confidence intervall)\n",
    "fig, ax = pfunc.plot_heatmap(age_incidence_factorized,\n",
    "                             title='estimated incidences per age group over time (without confidence intervall)',\n",
    "                             filename='estimated_incidences_per_age',\n",
    "                             figsize=(15, 9), annot=True, fmt='.1f')"
   ]
  },
  {
   "cell_type": "code",
   "execution_count": null,
   "metadata": {
    "hidden": true
   },
   "outputs": [],
   "source": [
    "# get estimated total numbers per age group\n",
    "age_cases_factorized = ((age_incidence_factorized.mul(population_age, axis=0))/100).loc[:, :'53']\n",
    "age_cases_factorized_95_low = ((age_incidence_factorized_95_low.mul(population_age, axis=0))/100).loc[:, :'53']\n",
    "age_cases_factorized_95_high = ((age_incidence_factorized_95_high.mul(population_age, axis=0))/100).loc[:, :'53']"
   ]
  },
  {
   "cell_type": "code",
   "execution_count": null,
   "metadata": {
    "hidden": true
   },
   "outputs": [],
   "source": [
    "# get cumulated estimation of total numbers over time\n",
    "dark_figs = pd.DataFrame()\n",
    "dark_figs['cases_est'] = age_cases_factorized.sum()\n",
    "dark_figs['cases_95_low'] = age_cases_factorized_95_low.sum()\n",
    "dark_figs['cases_95_high'] = age_cases_factorized_95_high.sum()\n",
    "dark_figs.index = dark_figs.index.astype('int')\n",
    "\n",
    "dark_figs = pd.concat([dark_figs, weekly_cases.rename('confirmed_cases')], axis=1)"
   ]
  },
  {
   "cell_type": "code",
   "execution_count": null,
   "metadata": {
    "hidden": true
   },
   "outputs": [],
   "source": [
    "fig, ax = pfunc.plot_line(dark_figs,\n",
    "                          title=f'estimated vs. reported cases in 2020',\n",
    "                          ylabel='total number of cases',\n",
    "                          xlabel='calendar week of 2020', \n",
    "                          linecolor=['red', blue_light, blue_medium, 'black'],\n",
    "                          filename='estimated_dark_figures')"
   ]
  },
  {
   "cell_type": "code",
   "execution_count": null,
   "metadata": {
    "hidden": true
   },
   "outputs": [],
   "source": [
    "fig, ax = pfunc.plot_line(dark_figs.loc[20:40, :],\n",
    "                          title=f'estimated vs. reported cases in 2020 - week 20 through 40',\n",
    "                          ylabel='total number of cases',\n",
    "                          xlabel='calendar week of 2020', \n",
    "                          linecolor=['red', blue_light, blue_medium, 'black'],\n",
    "                          filename='estimated_dark_figures_summer')"
   ]
  },
  {
   "cell_type": "markdown",
   "metadata": {
    "hidden": true
   },
   "source": [
    "Plotting estimated cases over confirmed infections visualizes the surge in case numbers even better: up to 5 times more Coronavirus infections than reported are estimated by our model during both pandemic waves. Zooming in on case numbers during summer reveals that even with low official case numbers and no benchmarking, estimated case numbers are at least twice as high as indicated by records."
   ]
  },
  {
   "cell_type": "code",
   "execution_count": null,
   "metadata": {
    "hidden": true
   },
   "outputs": [],
   "source": [
    "fig, ax = pfunc.plot_line((dark_figs['confirmed_cases']/dark_figs['cases_est']).rename('percentage of confirmed cases'),\n",
    "                          title=f'percentage of cases confirmed compared to total number of cases estimated',\n",
    "                          ylabel='percentage of cases confirmed [%]',\n",
    "                          xlabel='calendar week of 2020', \n",
    "                          linecolor=['black'],\n",
    "                          filename='percentage_confirmed_cases')"
   ]
  },
  {
   "cell_type": "markdown",
   "metadata": {
    "hidden": true
   },
   "source": [
    "Within the percentage of confirmed cases vs. the total number of estimated cases, we can see the distinct shifts between both pandemic waves - where the elderly age group was the benchmark - and those times with lesser overall infections, where infections were higher in different groups.\n",
    "\n",
    "A possible change to the approach taken could be to not assume any specific group as benchmark, but to always take the one with the highest incidences. It is questionable though if this would lead to a more accurate estimation though: the specific breakouts discussed earlier (i.e. the meat factory breakout in June) would have a larger influence on undetected cases across all age groups, regardless of the fact that they might indeed have occurred in a closed and well-documented setting."
   ]
  },
  {
   "cell_type": "code",
   "execution_count": null,
   "metadata": {
    "hidden": true
   },
   "outputs": [],
   "source": [
    "# account for further uncertainty due to 0-40% asymptomatic cases\n",
    "dark_figs['cases_est_uncertainty'] = dark_figs['cases_est']*1.4\n",
    "dark_figs['cases_95_low_uncertainty'] = dark_figs['cases_95_low']*1.4\n",
    "dark_figs['cases_95_high_uncertainty'] = dark_figs['cases_95_high']*1.4"
   ]
  },
  {
   "cell_type": "code",
   "execution_count": null,
   "metadata": {
    "hidden": true
   },
   "outputs": [],
   "source": [
    "fig, ax = pfunc.plot_line_fill(dark_figs[['cases_est_uncertainty', 'cases_95_low_uncertainty', 'cases_95_high_uncertainty', 'confirmed_cases', 'cases_est']],\n",
    "                               dark_figs['cases_est'], \n",
    "                               dark_figs['cases_est_uncertainty'], \n",
    "                               title=f'estimated vs. reported cases in 2020 - including an additional 40% uncertainty due to asymptomatic cases',\n",
    "                          ylabel='total number of cases',\n",
    "                          xlabel='calendar week of 2020', \n",
    "                          linecolor=['orange', blue_light, blue_medium, 'black', 'red'], fillcolor='orange',\n",
    "                          filename='estimated_dark_figures_uncertainty')"
   ]
  },
  {
   "cell_type": "markdown",
   "metadata": {
    "hidden": true
   },
   "source": [
    "Check out this [dashboard](https://covid19.dunkelzifferradar.de/) for another approach for estimating undetected Coronavirus infections based on case mortality. The model uses differential equations, wherein the mortality parameter can be configured by the user.\n",
    "\n",
    "At the peak of the second wave in CW 51, this dashboard yields a maximum number of undetected infections of over 1.6 million cases, which is double the value derived from the calculation above and 8 times the number of reported cases."
   ]
  }
 ],
 "metadata": {
  "kernelspec": {
   "display_name": "Python 3.8.3 32-bit",
   "language": "python",
   "name": "python38332bit9505451eb6424bef863e7b16377c3eb0"
  },
  "language_info": {
   "codemirror_mode": {
    "name": "ipython",
    "version": 3
   },
   "file_extension": ".py",
   "mimetype": "text/x-python",
   "name": "python",
   "nbconvert_exporter": "python",
   "pygments_lexer": "ipython3",
   "version": "3.8.3"
  }
 },
 "nbformat": 4,
 "nbformat_minor": 4
}
